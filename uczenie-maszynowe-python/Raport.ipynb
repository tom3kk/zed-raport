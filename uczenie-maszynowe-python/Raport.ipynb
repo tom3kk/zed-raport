{
 "cells": [
  {
   "cell_type": "markdown",
   "metadata": {},
   "source": [
    "# Projekt z uczenia maszynowego\n",
    "\n",
    "## Tomasz Kaik 106646\n",
    "## Arkadiusz Rusin 106644"
   ]
  },
  {
   "cell_type": "markdown",
   "metadata": {},
   "source": [
    "### Wczytane biblioteki\n",
    "Do przetwarzania danych i budowy klasyfikatora oraz pomiaru czasu wykorzystaliśmy biblioteki: \n",
    "- pandas\n",
    "- sklearn\n",
    "- numpy"
   ]
  },
  {
   "cell_type": "code",
   "execution_count": null,
   "metadata": {
    "collapsed": true
   },
   "outputs": [],
   "source": [
    "import pandas as pd\n",
    "import numpy as np\n",
    "from sklearn.grid_search import RandomizedSearchCV\n",
    "from sklearn.ensemble import RandomForestClassifier\n",
    "from scipy.stats import randint as sp_randint\n",
    "from time import time\n",
    "from sklearn.externals import joblib"
   ]
  },
  {
   "cell_type": "markdown",
   "metadata": {},
   "source": [
    "### Wczytywanie danych treningowych i testowych\n",
    "Do wczytania danych wykorzystana została funkcja read_csv(), gdzie wskazane zostały wartoścu NA w naszym zbiorze (na_values='nan'), oraz ustawiona została maska (keep_default_na=False), gdyż biblioteka pandas domyślnie traktował wartości NA jako puste (a w analizowanym zbiorze 'NA' jest poprawną wartością atrybutu res_name)"
   ]
  },
  {
   "cell_type": "code",
   "execution_count": null,
   "metadata": {
    "collapsed": true
   },
   "outputs": [],
   "source": [
    "dane = pd.read_csv(\"all_summary.txt\", sep=\";\", na_values=[\"nan\"], keep_default_na=False, dtype={'res_id': object})\n",
    "grouped_res_name = pd.read_csv(\"grouped_res_name.txt\", sep=\",\", na_values=[\"nan\"], keep_default_na=False)\n",
    "\n",
    "dane_test = pd.read_csv(\"test_data.txt\", sep=\",\", na_values=[\"nan\"], keep_default_na=False)"
   ]
  },
  {
   "cell_type": "markdown",
   "metadata": {},
   "source": [
    "### Filtrowanie danych\n",
    "Filtrowanie danych przebiegało w 5 etapach\n",
    "1. Pozbycie się wartości [\"DA\", \"DC\", \"DT\", \"DU\", \"DG\", \"DI\", \"UNK\", \"UNX\", \"UNL\", \"PR\", \"PD\", \"Y1\", \"EU\", \"N\", \"15P\", \"UQ\", \"PX4\", \"NAN\"] z kolumny \"res_name\"\n",
    "2. Pozbycie się duplikatów (\"pdb_code\", \"res_name\")\n",
    "3. Pozbycie się wierszy, których liczność klasy \"res_name\" w ogólnym zbiorze danych nie przekraczała 5 instancji\n",
    "4. Pozostawienie odpowiednich kolumn do klasyfikacji\n",
    "5. Zamiana wartości pustych (nan) na wartości równe 0"
   ]
  },
  {
   "cell_type": "code",
   "execution_count": null,
   "metadata": {
    "collapsed": false
   },
   "outputs": [],
   "source": [
    "dane = dane[~dane[\"res_name\"].isin([\"DA\", \"DC\", \"DT\", \"DU\", \"DG\", \"DI\", \"UNK\", \"UNX\", \"UNL\", \"PR\", \"PD\", \n",
    "                                    \"Y1\", \"EU\", \"N\", \"15P\", \"UQ\", \"PX4\", \"NAN\"])]"
   ]
  },
  {
   "cell_type": "code",
   "execution_count": null,
   "metadata": {
    "collapsed": true
   },
   "outputs": [],
   "source": [
    "dane = dane.drop_duplicates(subset=[\"pdb_code\", \"res_name\"], keep='first')"
   ]
  },
  {
   "cell_type": "code",
   "execution_count": null,
   "metadata": {
    "collapsed": true
   },
   "outputs": [],
   "source": [
    "dane = dane[dane.groupby('res_name').res_id.transform(len) >= 5]"
   ]
  },
  {
   "cell_type": "code",
   "execution_count": null,
   "metadata": {
    "collapsed": true
   },
   "outputs": [],
   "source": [
    "res_name = dane['res_name']\n",
    "res_name_group = grouped_res_name['res_name_group']\n",
    "\n",
    "cols = [\"part_0[0-9]_.*\", \"TwoFoFc_.*\", \"FoFc_.*\", \"Fc_.*\", \"Fo_.*\", \"local_volume\", \"local_electrons\",\n",
    "        \"local_mean\", \"local_std\", \"local_min\", \"local_max\", \"local_skewness\", \"local_parts\", \"resolution\",\n",
    "        \"solvent_mask_count\", \"void_mask_count\", \"modeled_mask_count\", \"solvent_ratio\"]\n",
    "colsReg = \"^(\" + '|'.join(cols) + \")$\"\n",
    "dane = dane.filter(regex=colsReg)"
   ]
  },
  {
   "cell_type": "code",
   "execution_count": null,
   "metadata": {
    "collapsed": true
   },
   "outputs": [],
   "source": [
    "dane = dane.fillna(0)\n",
    "dane_test = dane_test.fillna(0)"
   ]
  },
  {
   "cell_type": "markdown",
   "metadata": {},
   "source": [
    "### Obliczanie korelacji\n",
    "Treningowy zbiór danych składał się z:\n",
    "- 11005 instancji\n",
    "- 795 atrybutów\n",
    "\n",
    "Dlatego, aby usprawnić klasyfikację i budowanie modelu, obliczona została korelacja pomiędzy wszystkimi kolumnami. Następnie kolumny, których wartość bezwzględna korelacji przekraczała zadany próg (0.9) zostały usunięte.\n",
    "Ostatecznie zbiór treningowy składał się z:\n",
    "- 11005 instancji\n",
    "- 257 atrybutów"
   ]
  },
  {
   "cell_type": "code",
   "execution_count": null,
   "metadata": {
    "collapsed": true
   },
   "outputs": [],
   "source": [
    "corr_matrix = dane.corr()\n",
    "corr_matrix.loc[:, :] = np.tril(corr_matrix, k=-1)\n",
    "already_in = set()\n",
    "result = []\n",
    "for col in corr_matrix:\n",
    "    perfect_corr = corr_matrix[col][abs(corr_matrix[col]) > threshold].index.tolist()\n",
    "    if perfect_corr and col not in already_in:\n",
    "        already_in.update(set(perfect_corr))\n",
    "        perfect_corr.append(col)\n",
    "        result.append(perfect_corr)\n",
    "to_delete = []\n",
    "for group in result:\n",
    "    for c in group[1:]:\n",
    "        to_delete.append(c)\n",
    "dane = dane.drop(to_delete, 1)\n",
    "\n",
    "# ograniczenie danych testowych do tych samych kolumn\n",
    "dane_test = dane_test[list(data.columns.values)]"
   ]
  },
  {
   "cell_type": "markdown",
   "metadata": {
    "collapsed": true
   },
   "source": [
    "### Uczenie klasyfikatorów\n",
    "Do budowy modelu klasyfikacji wykorzystany został algorytm Random Forest"
   ]
  },
  {
   "cell_type": "code",
   "execution_count": null,
   "metadata": {
    "collapsed": true
   },
   "outputs": [],
   "source": [
    "clf = RandomForestClassifier(n_estimators=30)"
   ]
  },
  {
   "cell_type": "markdown",
   "metadata": {},
   "source": [
    "Zdefiniowano następującą przestrzeń parametrów"
   ]
  },
  {
   "cell_type": "code",
   "execution_count": null,
   "metadata": {
    "collapsed": true
   },
   "outputs": [],
   "source": [
    "param_dist = {\"max_depth\": [20, None],\n",
    "              \"max_features\": sp_randint(1, 40),\n",
    "              \"min_samples_split\": sp_randint(1, 40),\n",
    "              \"min_samples_leaf\": sp_randint(1, 40),\n",
    "              \"bootstrap\": [True, False],\n",
    "              \"criterion\": [\"gini\", \"entropy\"]}"
   ]
  },
  {
   "cell_type": "markdown",
   "metadata": {},
   "source": [
    "Najlepsze klasyfikatory zostały wygenerowane metodą Randomized Search CV, która w testach okazał się szybszy od Grid Search CV. Użyto dodatkowo 5-krotnej walidacji krzyżowej (cv=5). Do optymalizacji wykorzystana została miara \"recall\"."
   ]
  },
  {
   "cell_type": "code",
   "execution_count": null,
   "metadata": {
    "collapsed": false
   },
   "outputs": [],
   "source": [
    "n_iter_search = 25\n",
    "\n",
    "random_search = RandomizedSearchCV(clf, param_distributions=param_dist, cv=5, n_iter=n_iter_search, \n",
    "                                   scoring='recall_weighted', n_jobs=4)\n",
    "start = time()\n",
    "random_search.fit(dane, res_name)\n",
    "print \"Czas: %.2f sec\" % (time() - start)"
   ]
  },
  {
   "cell_type": "markdown",
   "metadata": {},
   "source": [
    "### Najlepsze znalezione klasyfikatory "
   ]
  },
  {
   "cell_type": "markdown",
   "metadata": {},
   "source": [
    "Uczenie klasyfikatora zostało wykonane zarówno dla oryginalnego zbioru etykiet (res_name), jak i pogrupowanych etykiet (res_name_group). \n",
    "\n",
    "Poniżej wyświetlone zostały parametry, dla których uzyskano najlepsze klasyfikatory, oraz wartość optymalizowanej miary (best score - recall) osiągniętą dla tych klasyfikatorów:"
   ]
  },
  {
   "cell_type": "code",
   "execution_count": null,
   "metadata": {
    "collapsed": true
   },
   "outputs": [],
   "source": [
    "print 'best params:', random_search.best_params_\n",
    "print 'best score:', random_search.best_score_"
   ]
  },
  {
   "cell_type": "code",
   "execution_count": null,
   "metadata": {
    "collapsed": true
   },
   "outputs": [],
   "source": [
    "# dla res_name:\n",
    "best params: {'bootstrap': False, 'min_samples_leaf': 5, 'min_samples_split': 20, \n",
    "              'criterion': 'gini', 'max_features': 36, 'max_depth': 20}\n",
    "best score: 0.397\n",
    "\n",
    "# dla res_name_group:\n",
    "best params: {'bootstrap': False, 'min_samples_leaf': 5, 'min_samples_split': 11, \n",
    "              'criterion': 'entropy', 'max_features': 33, 'max_depth': 20}\n",
    "best score: 0.449"
   ]
  },
  {
   "cell_type": "markdown",
   "metadata": {
    "collapsed": true
   },
   "source": [
    "Najlepsze znalezione klasyfikatory zostały zapisane za pomocą biblioteki joblib do plików: \n",
    "* clf_res_name.plk\n",
    "* clf_res_name_group.plk"
   ]
  },
  {
   "cell_type": "code",
   "execution_count": null,
   "metadata": {
    "collapsed": true
   },
   "outputs": [],
   "source": [
    "clf_res_name = random_search.best_estimator_\n",
    "joblib.dump(random_search.best_estimator_, 'clf_res_name.pkl', compress=1)"
   ]
  },
  {
   "cell_type": "markdown",
   "metadata": {},
   "source": [
    "### Klasyfikacja danych testowych"
   ]
  },
  {
   "cell_type": "markdown",
   "metadata": {},
   "source": [
    "Najlepsze znalezione klasyfikatory zostały uruchomione dla danych testowych."
   ]
  },
  {
   "cell_type": "code",
   "execution_count": null,
   "metadata": {
    "collapsed": true
   },
   "outputs": [],
   "source": [
    "predicted = clf_res_name.predict(dane_test)\n",
    "\n",
    "text_file = open(\"predicted_res_name.txt\", \"w\")\n",
    "for p in predicted:\n",
    "    text_file.write(\"%s\\n\" % p)\n",
    "text_file.close()"
   ]
  },
  {
   "cell_type": "markdown",
   "metadata": {},
   "source": [
    "Uzyskane predykcje (dla obu typów klasyfikatorów) zostały załączone odpowiednio w plikach:\n",
    "* predicted_res_name.txt\n",
    "* predicted_res_name_group.txt"
   ]
  }
 ],
 "metadata": {
  "kernelspec": {
   "display_name": "Python 2",
   "language": "python",
   "name": "python2"
  },
  "language_info": {
   "codemirror_mode": {
    "name": "ipython",
    "version": 2
   },
   "file_extension": ".py",
   "mimetype": "text/x-python",
   "name": "python",
   "nbconvert_exporter": "python",
   "pygments_lexer": "ipython2",
   "version": "2.7.11"
  }
 },
 "nbformat": 4,
 "nbformat_minor": 0
}
